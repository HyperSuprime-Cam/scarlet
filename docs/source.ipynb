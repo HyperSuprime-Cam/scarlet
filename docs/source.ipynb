{
 "cells": [
  {
   "cell_type": "markdown",
   "metadata": {},
   "source": [
    "# Sources ([scarlet.source](source.ipynb))"
   ]
  },
  {
   "cell_type": "markdown",
   "metadata": {},
   "source": [
    "It is recommended to initialize sources by inheriting from the [Component](component.ipynb#scarlet.component.Component) class and overwriting the `__init__` and `update` methods to initialize and constrain sources respectively.\n",
    "\n",
    "In general, neither the SED nor the morphology are known ahead of time so *scarlet* offers a set of convenience classes, to generate an initial morphology and SED for a source at a given location in the image:\n",
    "* [PointSource](#scarlet.source.PointSource)\n",
    "* [ExtendedSource](#scarlet.source.ExtendedSource)\n",
    "* [MultiComponentSource](#scarlet.source.MultiComponentSource)"
   ]
  },
  {
   "cell_type": "raw",
   "metadata": {
    "raw_mimetype": "text/restructuredtext"
   },
   "source": [
    "Reference/API\n",
    "-------------\n",
    ".. automodule:: scarlet.source\n",
    "    :members:"
   ]
  }
 ],
 "metadata": {
  "celltoolbar": "Raw Cell Format",
  "kernelspec": {
   "display_name": "Python 3",
   "language": "python",
   "name": "python3"
  },
  "language_info": {
   "codemirror_mode": {
    "name": "ipython",
    "version": 3
   },
   "file_extension": ".py",
   "mimetype": "text/x-python",
   "name": "python",
   "nbconvert_exporter": "python",
   "pygments_lexer": "ipython3",
   "version": "3.7.2"
  }
 },
 "nbformat": 4,
 "nbformat_minor": 2
}
