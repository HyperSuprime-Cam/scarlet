{
 "cells": [
  {
   "cell_type": "markdown",
   "metadata": {},
   "source": [
    "# Bounding Boxes ([scarlet.bbox](bbox.ipynb))\n",
    "\n",
    "[scarlet.bbox](bbox.ipynb) contains the [scarlet.bbox.BoundingBox](bbox.ipynb#scarlet.bbox.BoundingBox) class, which defines a rectangular pixel region in an image. Components and sources that require a bounding box are advised to create or add a new entry into the `Component.bboxes` dictionary, allowing different updates to use different bounding boxes for different purposes. For example, the soon to be released code that fits sources to existing galaxy profiles always uses a $60\\times60$ pixel bounding box whereas symmetry and monotonicity should be used in the smallest bounding box allowed, which is defined as `component.bboxes[\"thresh\"]` if the [threshold](update.ipynb#scarlet.update.threshold) update method is executed."
   ]
  },
  {
   "cell_type": "raw",
   "metadata": {
    "raw_mimetype": "text/restructuredtext"
   },
   "source": [
    "Reference/API\n",
    "-------------\n",
    ".. automodule:: scarlet.bbox\n",
    "    :members:"
   ]
  }
 ],
 "metadata": {
  "celltoolbar": "Raw Cell Format",
  "kernelspec": {
   "display_name": "Python 3",
   "language": "python",
   "name": "python3"
  },
  "language_info": {
   "codemirror_mode": {
    "name": "ipython",
    "version": 3
   },
   "file_extension": ".py",
   "mimetype": "text/x-python",
   "name": "python",
   "nbconvert_exporter": "python",
   "pygments_lexer": "ipython3",
   "version": "3.7.2"
  }
 },
 "nbformat": 4,
 "nbformat_minor": 2
}
