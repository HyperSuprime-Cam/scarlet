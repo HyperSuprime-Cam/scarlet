{
 "cells": [
  {
   "cell_type": "markdown",
   "metadata": {
    "deletable": true,
    "editable": true
   },
   "source": [
    "# Components ([scarlet.component](component.ipynb))"
   ]
  },
  {
   "cell_type": "markdown",
   "metadata": {
    "deletable": true,
    "editable": true
   },
   "source": [
    "The base unit of SCARLET, [Component](#scarlet.component.Component) requires an initial guess of the center, SED, and morphology of the objects in a scene. Multiple components can be grouped together as [Source](source.ipynb#scarlet.source.Source) with additional constraints being put on the centers, SEDs, and morphologies of *all* components."
   ]
  },
  {
   "cell_type": "raw",
   "metadata": {},
   "source": [
    "Reference/API\n",
    "-------------\n",
    ".. automodule:: scarlet.component\n",
    "    :members:"
   ]
  }
 ],
 "metadata": {
  "celltoolbar": "Raw Cell Format",
  "kernelspec": {
   "display_name": "Python 3",
   "language": "python",
   "name": "python3"
  },
  "language_info": {
   "codemirror_mode": {
    "name": "ipython",
    "version": 3
   },
   "file_extension": ".py",
   "mimetype": "text/x-python",
   "name": "python",
   "nbconvert_exporter": "python",
   "pygments_lexer": "ipython3",
   "version": "3.5.2"
  }
 },
 "nbformat": 4,
 "nbformat_minor": 2
}
