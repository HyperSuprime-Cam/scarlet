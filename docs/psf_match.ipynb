{
 "cells": [
  {
   "cell_type": "markdown",
   "metadata": {},
   "source": [
    "# PSF Matching ([scarlet.psf_match](psf_match.ipynb))\n",
    "\n",
    "Methods for building difference kernels to match the PSF across bands."
   ]
  },
  {
   "cell_type": "raw",
   "metadata": {},
   "source": [
    "Reference/API\n",
    "-------------\n",
    ".. automodule:: scarlet.psf_match\n",
    "    :members:"
   ]
  }
 ],
 "metadata": {
  "celltoolbar": "Raw Cell Format",
  "kernelspec": {
   "display_name": "Python 3",
   "language": "python",
   "name": "python3"
  },
  "language_info": {
   "codemirror_mode": {
    "name": "ipython",
    "version": 3
   },
   "file_extension": ".py",
   "mimetype": "text/x-python",
   "name": "python",
   "nbconvert_exporter": "python",
   "pygments_lexer": "ipython3",
   "version": "3.6.2"
  }
 },
 "nbformat": 4,
 "nbformat_minor": 2
}
