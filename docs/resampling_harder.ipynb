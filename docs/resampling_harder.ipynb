{
 "cells": [
  {
   "cell_type": "markdown",
   "metadata": {},
   "source": [
    "# Quick Start Guide\n",
    "This tutorial shows how to use the resampling capabilities in scarlet"
   ]
  },
  {
   "cell_type": "code",
   "execution_count": null,
   "metadata": {},
   "outputs": [],
   "source": [
    "# Import Packages and setup\n",
    "import logging\n",
    "\n",
    "import numpy as np\n",
    "\n",
    "import scarlet\n",
    "import scarlet.display\n",
    "import astropy.io.fits as fits\n",
    "from astropy.wcs import WCS\n",
    "import sep\n",
    "\n",
    "%matplotlib inline\n",
    "import matplotlib\n",
    "import matplotlib.pyplot as plt\n",
    "\n",
    "# use a better colormap and don't interpolate the pixels\n",
    "matplotlib.rc('image', cmap='inferno')\n",
    "matplotlib.rc('image', interpolation='none')"
   ]
  },
  {
   "cell_type": "markdown",
   "metadata": {},
   "source": [
    "## Load and display the sample data"
   ]
  },
  {
   "cell_type": "markdown",
   "metadata": {},
   "source": [
    "### Load the sample data and source catalog\n",
    "Loading the source catalog requires astropy. If you don't have astropy installed you'll have to do the source detection yourself. For example, using `sep`."
   ]
  },
  {
   "cell_type": "code",
   "execution_count": null,
   "metadata": {},
   "outputs": [],
   "source": [
    "\n",
    "def makeCatalog(img):\n",
    "    if np.size(img.shape) == 3:\n",
    "        detect = img.mean(axis=0) # simple average for detection\n",
    "    else:\n",
    "        detect = img.byteswap().newbyteorder()\n",
    "        \n",
    "    bkg = sep.Background(detect)\n",
    "    catalog = sep.extract(detect, 4, err=bkg.globalrms)\n",
    "    if np.size(img.shape) == 3:\n",
    "        bg_rms = np.array([sep.Background(band).globalrms for band in img])\n",
    "    else:\n",
    "        bg_rms =  sep.Background(detect).globalrms\n",
    "    return catalog, bg_rms\n",
    "\n",
    "\n"
   ]
  },
  {
   "cell_type": "code",
   "execution_count": null,
   "metadata": {},
   "outputs": [],
   "source": [
    "obs_hdu = fits.open('../data/test_resampling/Cut_HSC1.fits')\n",
    "data_hsc = obs_hdu[0].data.byteswap().newbyteorder()\n",
    "wcs_hsc = WCS(obs_hdu[0].header)\n",
    "psf_hsc = fits.open('../data/test_resampling/PSF_HSC.fits')[0].data\n",
    "\n",
    "\n",
    "\n",
    "x,y = np.where(psf_hsc[0]*0==0)\n",
    "Np1, Np2 = psf_hsc[0].shape\n",
    "\n",
    "hst_hdu = fits.open('../data/test_resampling/Cut_HST1.fits')\n",
    "data_hst = hst_hdu[0].data\n",
    "wcs_hst = WCS(hst_hdu[0].header)\n",
    "psf_hst = fits.open('../data/test_resampling/PSF_HST.fits')[0].data[np.newaxis,:,:]\n",
    "wcs_hst.wcs.crval += 2.4750118475607095e-05*np.array([-np.cos(0.4136047623181346 ), -np.sin(0.4136047623181346 )])\n",
    "\n",
    "noise = np.concatenate((np.concatenate((data_hst[0,:], data_hst[:,0])),\n",
    "                                            np.concatenate((data_hst[-1,:], data_hst[:,-1]))))\n",
    "\n",
    "n1,n2 = np.shape(data_hst)\n",
    "data_hst = data_hst.reshape(1, n1, n2).byteswap().newbyteorder()*np.max(data_hsc)/np.max(data_hst)\n",
    "\n",
    "r, N1, N2 = data_hsc.shape\n",
    "\n",
    "catalog_hst, bg_rms_hst = makeCatalog(data_hst)\n",
    "catalog_hsc, bg_rms_hsc = makeCatalog(data_hsc)\n",
    "\n",
    "#plotting setup\n",
    "norm = scarlet.display.Asinh(img=data_hsc, Q=20)\n",
    "# Map i,r,g -> RGB\n",
    "filter_indices = [2,0,1]\n",
    "\n",
    "xo,yo = catalog_hst['x'], catalog_hst['y']\n",
    "\n",
    "ra, dec = wcs_hst.wcs_pix2world(yo,xo,0)\n",
    "Yo,Xo, l = wcs_hsc.wcs_world2pix(ra, dec, 0, 0)\n",
    "\n",
    "img_rgb = scarlet.display.img_to_rgb(data_hsc, filter_indices=filter_indices, norm=norm)\n",
    "\n",
    "plt.figure(figsize=(15,5))\n",
    "plt.subplot(121)\n",
    "plt.imshow(img_rgb)\n",
    "plt.plot(Xo,Yo, 'o')\n",
    "plt.subplot(122)\n",
    "plt.imshow(data_hst[0]+0.5, cmap = 'gist_stern')\n",
    "plt.plot(xo,yo, 'o')\n",
    "plt.show()"
   ]
  },
  {
   "cell_type": "markdown",
   "metadata": {},
   "source": [
    "## Initialize the sources\n",
    "Each source is a list of fundamental `scarlet.Component` instances and must be based on `scarlet.Source` or a derived class, in this case `ExtendedSource`, which enforces that the source is monotonic and symmetric."
   ]
  },
  {
   "cell_type": "code",
   "execution_count": null,
   "metadata": {},
   "outputs": [],
   "source": [
    "obs_hst = scarlet.Observation(data_hst, wcs = wcs_hst, psfs = None, structure = np.array([0,0,0,1]))\n",
    "obs_hsc = scarlet.ObservationToResample(data_hsc,  wcs = wcs_hsc, psfs = psf_hsc, structure = np.array([1,1,1,0]))\n",
    "\n",
    "scene = scarlet.Scene((r+1, n1,n2), wcs = wcs_hst, psfs = psf_hst)\n",
    "\n",
    "obs = [obs_hsc, obs_hst]\n",
    "\n",
    "bg_rms = np.concatenate((bg_rms_hsc, bg_rms_hst))\n",
    "\n",
    "# In[5]:\n",
    "\n",
    "sources = [scarlet.CombinedExtendedSource((ra[i], dec[i]), scene, obs, bg_rms, symmetric = 0, monotonic = 1) for i in range(ra.size)]\n",
    "\n",
    "rgb = np.zeros((4,n1,n2))\n",
    "\n",
    "for src in sources:\n",
    "    for i in range(4):\n",
    "        rgb[i,:,:] += src.morph*src.sed[i]\n",
    "    \n",
    "\n",
    "    \n",
    "im_rgb = scarlet.display.img_to_rgb(rgb, filter_indices=filter_indices, norm=norm)\n",
    "\n",
    "plt.figure(figsize=(15,5))\n",
    "plt.subplot(121)\n",
    "plt.imshow(im_rgb)\n",
    "plt.subplot(122)\n",
    "plt.imshow(img_rgb)\n",
    "plt.show()"
   ]
  },
  {
   "cell_type": "markdown",
   "metadata": {},
   "source": [
    "## Create and fit the model\n",
    "The `scarlet.Blend` class represent the sources as a tree and has the machinery to fit all of the sources to the given images. In this example the code is set to run for a maximum of 200 iterations, but will end early if the likelihood and all of the constraints converge."
   ]
  },
  {
   "cell_type": "code",
   "execution_count": null,
   "metadata": {},
   "outputs": [],
   "source": [
    "blend = scarlet.Blend(scene, sources, obs)"
   ]
  },
  {
   "cell_type": "code",
   "execution_count": null,
   "metadata": {},
   "outputs": [],
   "source": [
    "blend.fit(200, e_rel = 1e-3)\n",
    "print(\"scarlet ran for {0} iterations\".format(blend.it))"
   ]
  },
  {
   "cell_type": "markdown",
   "metadata": {},
   "source": [
    "### View the full model\n",
    "First we load the model for the entire blend and its residual. Then we display the model using the same $sinh^{-1}$ stretch as the full image and a linear stretch for the residual."
   ]
  },
  {
   "cell_type": "code",
   "execution_count": null,
   "metadata": {},
   "outputs": [],
   "source": [
    "# Load the model and calculate the residual\n",
    "im = np.zeros((N1,N2))\n",
    "im[obs_hsc._over_lr[0].astype(int), obs_hsc._over_lr[1]] = np.dot(data_hst.flatten(),obs_hsc.resconv_op[1,:,:])\n",
    "\n",
    "model = blend.get_model()\n",
    "\n",
    "modelhr_rgb = scarlet.display.img_to_rgb(model, filter_indices=filter_indices, norm=norm)\n",
    "\n",
    "plt.figure(figsize=(15,5))\n",
    "plt.subplot(131)\n",
    "plt.imshow(modelhr_rgb)\n",
    "plt.subplot(132)\n",
    "plt.imshow(data_hst[0], cmap = 'gist_stern')\n",
    "plt.subplot(133)\n",
    "plt.imshow(data_hst[0]-model[-1], cmap = 'gist_stern')\n",
    "plt.show()\n",
    "\n",
    "img = obs_hsc.get_model_image(model)\n",
    "\n",
    "model_rgb = scarlet.display.img_to_rgb(img, filter_indices=filter_indices, norm=norm)\n",
    "residual = data_hsc-img\n",
    "residual_rgb = scarlet.display.img_to_rgb(residual, filter_indices=filter_indices, norm=norm)\n",
    "\n",
    "\n",
    "plt.figure(figsize=(15,5))\n",
    "plt.subplot(131)\n",
    "plt.title('model')\n",
    "plt.imshow(model_rgb)\n",
    "plt.subplot(132)\n",
    "plt.title('residuals')\n",
    "plt.imshow(residual_rgb)\n",
    "plt.subplot(133)\n",
    "plt.title('image')\n",
    "plt.imshow(img_rgb)\n",
    "plt.show()"
   ]
  },
  {
   "cell_type": "markdown",
   "metadata": {},
   "source": [
    "### View the source models\n",
    "It can also be useful to view the model for each source. For each source we extract the portion of the image contained in the sources bounding box, the true simulated source flux, and the model of the source, scaled so that all of the images have roughly the same pixel scale."
   ]
  },
  {
   "cell_type": "code",
   "execution_count": null,
   "metadata": {
    "scrolled": false
   },
   "outputs": [],
   "source": [
    "has_truth = False\n",
    "axes = 2\n",
    "\n",
    "for k,src in enumerate(blend.components):\n",
    "    \n",
    "    # Get the model for a single source\n",
    "    component = blend.get_model(src.morph)\n",
    "\n",
    "    print(component.shape)\n",
    "    # Get the patch from the original image\n",
    "    \n",
    "    _img = src.morph\n",
    "    print(src.sed, src.morph.max())\n",
    "    \n",
    "    plt.figure(figsize=(15,5))\n",
    "    plt.subplot(131)\n",
    "    plt.imshow(_img[:,:], interpolate = None, cmap = 'gist_stern')\n",
    "    plt.plot(xo,yo, 'o')\n",
    "    plt.title('Model HR')\n",
    "    \n",
    "    \n",
    "    im = np.zeros((N1,N2))\n",
    "    im[obs_hsc._over_lr[0].astype(int), obs_hsc._over_lr[1]] = np.dot(_img.flatten(),obs_hsc.resconv_op[0,:,:])\n",
    "\n",
    "    \n",
    "    plt.subplot(132)\n",
    "    plt.imshow(im, interpolate = None, cmap = 'gist_stern')\n",
    "    plt.plot(Xo,Yo, 'o')\n",
    "    plt.title('Model LR')\n",
    "    plt.subplot(133)\n",
    "    plt.plot(src.sed)\n",
    "    plt.title('Model LR')\n",
    "    plt.show()\n",
    "    \n",
    "    _img = src.get_model()\n",
    "\n",
    "    #_img_rgb = scarlet.display.img_to_rgb(_img)\n",
    "\n",
    "    _img_lr = obs_hsc.get_model_image(_img)\n",
    "    img_lr_rgb = scarlet.display.img_to_rgb(_img_lr, filter_indices=filter_indices, norm=norm)\n",
    "    res = data_hsc-_img_lr\n",
    "    res_rgb = scarlet.display.img_to_rgb(res, filter_indices=filter_indices, norm=norm)\n",
    "        # Set the figure size\n",
    "    ratio = src.shape[2]/src.shape[1]\n",
    "    fig_height = 3*src.shape[1]/20\n",
    "    fig_width = max(3*fig_height*ratio,2)\n",
    "    fig = plt.figure(figsize=(fig_width, fig_height))\n",
    "    # Generate and show the figure\n",
    "    \n",
    "    plt.subplot(131)\n",
    "    plt.imshow(img_lr_rgb)\n",
    "    plt.plot(Xo,Yo, 'o', markersize = 35)\n",
    "    plt.subplot(132)\n",
    "    plt.imshow(res_rgb)\n",
    "    plt.plot(Xo,Yo, 'o', markersize = 35)\n",
    "    plt.subplot(133)\n",
    "    plt.imshow(img_rgb)\n",
    "    plt.plot(Xo,Yo, 'o', markersize = 35)\n",
    "    plt.show()\n",
    "\n",
    "    \n",
    "\n",
    "    img_hr = obs_hst.get_model(_img)\n",
    "    res = data_hst-img_hr[-1]\n",
    "    \n",
    "    print(res.shape)\n",
    "    plt.figure(figsize=(15,5))\n",
    "    plt.subplot(131)\n",
    "    plt.imshow(img_hr[-1], cmap = 'gist_stern')\n",
    "    plt.plot(xo,yo, 'o', markersize = 5)\n",
    "    plt.subplot(132)\n",
    "    plt.imshow(res[0], cmap = 'gist_stern')\n",
    "    plt.plot(xo,yo, 'o', markersize = 5)\n",
    "    plt.subplot(133)\n",
    "    plt.imshow(data_hst[0], cmap = 'gist_stern')\n",
    "    plt.plot(xo,yo, 'o', markersize = 5)\n",
    "    plt.show()\n"
   ]
  },
  {
   "cell_type": "code",
   "execution_count": null,
   "metadata": {},
   "outputs": [],
   "source": []
  },
  {
   "cell_type": "code",
   "execution_count": null,
   "metadata": {},
   "outputs": [],
   "source": []
  },
  {
   "cell_type": "code",
   "execution_count": null,
   "metadata": {},
   "outputs": [],
   "source": []
  }
 ],
 "metadata": {
  "celltoolbar": "Raw Cell Format",
  "kernelspec": {
   "display_name": "Python 3",
   "language": "python",
   "name": "python3"
  },
  "language_info": {
   "codemirror_mode": {
    "name": "ipython",
    "version": 3
   },
   "file_extension": ".py",
   "mimetype": "text/x-python",
   "name": "python",
   "nbconvert_exporter": "python",
   "pygments_lexer": "ipython3",
   "version": "3.7.1"
  }
 },
 "nbformat": 4,
 "nbformat_minor": 2
}
